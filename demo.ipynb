{
 "cells": [
  {
   "cell_type": "code",
   "execution_count": null,
   "metadata": {},
   "outputs": [],
   "source": [
    "from generate import *"
   ]
  },
  {
   "cell_type": "code",
   "execution_count": null,
   "metadata": {},
   "outputs": [],
   "source": [
    "!export PATH=\"/share/project/quansun/evaclip_running/env/evaclip/bin:$PATH\""
   ]
  },
  {
   "cell_type": "code",
   "execution_count": null,
   "metadata": {},
   "outputs": [],
   "source": [
    "from transformers import DataCollatorForLanguageModeling\n",
    "import transformers\n",
    "\n",
    "IGNORE_INDEX = -100\n",
    "DEFAULT_PAD_TOKEN = \"[PAD]\"\n",
    "DEFAULT_EOS_TOKEN = \"</s>\"\n",
    "DEFAULT_BOS_TOKEN = \"</s>\"\n",
    "DEFAULT_UNK_TOKEN = \"</s>\"\n",
    "PROMPT_DICT = {\n",
    "    \"prompt_input\": (\n",
    "        \"Below is an instruction that describes a task, paired with an input that provides further context. \"\n",
    "        \"Write a response that appropriately completes the request.\\n\\n\"\n",
    "        \"### Instruction:\\n{instruction}\\n\\n### Input:\\n{input}\\n\\n### Response:\"\n",
    "    ),\n",
    "    \"prompt_no_input\": (\n",
    "        \"Below is an instruction that describes a task. \"\n",
    "        \"Write a response that appropriately completes the request.\\n\\n\"\n",
    "        \"### Instruction:\\n{instruction}\\n\\n### Response:\"\n",
    "    ),\n",
    "}\n",
    "\n",
    "\n",
    "def prepare_pile_dataset():\n",
    "    base_url = \"/share/project/quansun/Pile/\"\n",
    "    data_files = {\n",
    "        \"train\": [base_url + \"train/\" + f\"{idx:02d}.jsonl.zst\" for idx in range(30)],\n",
    "        \"validation\": base_url + \"val.jsonl.zst\",\n",
    "        \"test\": base_url + \"test.jsonl.zst\",\n",
    "    }\n",
    "    pile_dataset = load_dataset(\"json\", data_files=data_files, streaming=True)\n",
    "    # return pile_dataset['train'], pile_dataset['validation'], pile_dataset['test']\n",
    "    return pile_dataset\n",
    "\n",
    "def make_pile_data_module(tokenizer: transformers.PreTrainedTokenizer):\n",
    "    \"\"\"Make dataset and collator for Pile fine-tuning.\"\"\"\n",
    "    raw_datasets = prepare_pile_dataset()\n",
    "    data_collator = DataCollatorForLanguageModeling(tokenizer, mlm=False)\n",
    "\n",
    "    def tokenize(example):\n",
    "        outputs = tokenizer(\n",
    "            example[\"text\"],\n",
    "            return_tensors=\"pt\",\n",
    "            padding=\"longest\",\n",
    "            max_length=tokenizer.model_max_length,\n",
    "            truncation=True,\n",
    "        )\n",
    "        # outputs['labels'] = copy.deepcopy(outputs['input_ids'])\n",
    "        return outputs\n",
    "\n",
    "    tokenized_datasets = raw_datasets.map(\n",
    "        tokenize, batched=True, remove_columns=raw_datasets[\"train\"].column_names\n",
    "    )\n",
    "\n",
    "    return dict(train_dataset=tokenized_datasets[\"train\"], eval_dataset=tokenized_datasets[\"validation\"], data_collator=data_collator)"
   ]
  },
  {
   "cell_type": "code",
   "execution_count": null,
   "metadata": {},
   "outputs": [],
   "source": [
    "# model = transformers.AutoModelForCausalLM.from_pretrained(\n",
    "#         model_args.model_name_or_path,\n",
    "#         cache_dir=training_args.cache_dir,\n",
    "#     )\n",
    "\n",
    "tokenizer = transformers.AutoTokenizer.from_pretrained(\n",
    "    \"/share/project/qiying/model_cache/LLaMA/hf/llama-7b\",\n",
    "    cache_dir=\"/share/project/qiying/model_cache/LLaMA/hf/llama-7b\",\n",
    "    model_max_length=1024,\n",
    "    padding_side=\"right\",\n",
    "    use_fast=False,\n",
    ")"
   ]
  }
 ],
 "metadata": {
  "kernelspec": {
   "display_name": "base",
   "language": "python",
   "name": "python3"
  },
  "language_info": {
   "codemirror_mode": {
    "name": "ipython",
    "version": 3
   },
   "file_extension": ".py",
   "mimetype": "text/x-python",
   "name": "python",
   "nbconvert_exporter": "python",
   "pygments_lexer": "ipython3",
   "version": "3.8.5"
  },
  "orig_nbformat": 4
 },
 "nbformat": 4,
 "nbformat_minor": 2
}
